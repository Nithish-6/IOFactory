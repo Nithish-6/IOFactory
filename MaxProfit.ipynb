{
 "cells": [
  {
   "cell_type": "code",
   "execution_count": 8,
   "id": "5d7c5475",
   "metadata": {},
   "outputs": [
    {
     "name": "stdout",
     "output_type": "stream",
     "text": [
      "Enter the Time unit: 7\n",
      "Earnings: $3000\n",
      "Solution:\n",
      "T: 0, P: 1, C: 0\n"
     ]
    }
   ],
   "source": [
    "a = [0, 0, 0]\n",
    "time_unit = [4, 5, 10]\n",
    "\n",
    "def main():\n",
    "    n = int(input(\"Enter the Time unit: \"))\n",
    "    print(\"Earnings: $\" + str(find(n)))\n",
    "    print(\"Solution:\\n\" + sol())\n",
    "\n",
    "def find(n):\n",
    "    pr = 0\n",
    "    earn = [0, 0, 0]\n",
    "\n",
    "    if n < 4:\n",
    "        return 0\n",
    "    else:\n",
    "        temp = n - 4\n",
    "        earn[0] = temp * 1000\n",
    "        if n >= 5:\n",
    "            temp = n - 5\n",
    "            earn[1] = temp * 1500\n",
    "            if n >= 10:\n",
    "                temp = n - 10\n",
    "                earn[2] = temp * 3000\n",
    "    \n",
    "    mi = earn.index(max(earn))\n",
    "    pr += earn[mi]\n",
    "    a[mi] += 1\n",
    "    \n",
    "    return pr + find(n - time_unit[mi])\n",
    "\n",
    "def sol():\n",
    "    return \"T: \" + str(a[1]) + \", P: \" + str(a[0]) + \", C: \" + str(a[2])\n",
    "\n",
    "if __name__ == '__main__':\n",
    "    main()\n"
   ]
  },
  {
   "cell_type": "code",
   "execution_count": null,
   "id": "af8fa802",
   "metadata": {},
   "outputs": [],
   "source": []
  }
 ],
 "metadata": {
  "kernelspec": {
   "display_name": "Python 3 (ipykernel)",
   "language": "python",
   "name": "python3"
  },
  "language_info": {
   "codemirror_mode": {
    "name": "ipython",
    "version": 3
   },
   "file_extension": ".py",
   "mimetype": "text/x-python",
   "name": "python",
   "nbconvert_exporter": "python",
   "pygments_lexer": "ipython3",
   "version": "3.9.13"
  }
 },
 "nbformat": 4,
 "nbformat_minor": 5
}
